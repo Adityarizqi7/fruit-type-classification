{
 "cells": [
  {
   "cell_type": "code",
   "execution_count": null,
   "metadata": {},
   "outputs": [],
   "source": [
    "from sklearn import tree\n",
    "from sklearn import svm\n",
    "from sklearn import neighbors\n",
    "from sklearn.metrics import accuracy_score, classification_report\n",
    "from sklearn.naive_bayes import GaussianNB"
   ]
  },
  {
   "cell_type": "code",
   "execution_count": null,
   "metadata": {},
   "outputs": [],
   "source": [
    "#model fungsi algoritma\n",
    "modelDT = tree.DecisionTreeClassifier()\n",
    "modelSVM = svm.SVC()\n",
    "modelKNN = neighbors.KNeighborsClassifier()\n",
    "modelNB = GaussianNB()"
   ]
  },
  {
   "cell_type": "code",
   "execution_count": null,
   "metadata": {},
   "outputs": [],
   "source": [
    "#DATA TRAIN\n",
    "\n",
    "#item [tinggi, berat, ukuran_sepatu]\n",
    "item_train = [[181, 80, 44], [177, 70, 43], [160, 60, 38], [154, 54, 37], [166, 65, 40],\n",
    " [190, 90, 47], [175, 64, 39], [177, 70, 40], [159, 55, 37], [171, 75, 42],\n",
    " [181, 85, 43]]\n",
    "#gender : pria dan wanita\n",
    "gender_train = ['pria', 'pria', 'wanita', 'wanita', 'pria', 'pria', 'wanita', 'wanita',\n",
    " 'wanita', 'pria', 'pria']"
   ]
  },
  {
   "cell_type": "code",
   "execution_count": null,
   "metadata": {},
   "outputs": [],
   "source": [
    "#menghitung data latih dan menyimpannya sebagi objek\n",
    "modelDT = modelDT.fit(item_train, gender_train)\n",
    "modelSVM = modelSVM.fit(item_train, gender_train)\n",
    "modelKNN = modelKNN.fit(item_train, gender_train)\n",
    "modelNB = modelNB.fit(item_train, gender_train)"
   ]
  },
  {
   "cell_type": "code",
   "execution_count": null,
   "metadata": {},
   "outputs": [],
   "source": [
    "#DATA TEST\n",
    "#item [tinggi, berat, ukuran_sepatu]\n",
    "item_test = [[198, 92, 48], [184, 84, 44], [183, 83, 44], [166, 47, 36],\n",
    " [170, 60, 38], [172, 64, 39], [182, 80, 42], [180, 80, 43]]\n",
    "#gender : pria dan wanita\n",
    "gender_test = ['pria', 'pria', 'pria', 'wanita', 'wanita', 'wanita', 'pria', 'pria']"
   ]
  },
  {
   "cell_type": "code",
   "execution_count": null,
   "metadata": {},
   "outputs": [],
   "source": [
    "#Evaluasi Performa Model Training \n",
    "print('Akurasi Data Training SVM :', modelDT.score(item_train, gender_train)) \n",
    "print('Akurasi Data Training KNN :', modelSVM.score(item_train, gender_train)) \n",
    "print('Akurasi Data Training Naive Bayes :', modelKNN.score(item_train, gender_train)) \n",
    "print('Akurasi Data Training Decision Tree :', modelNB.score(item_train, gender_train)) "
   ]
  },
  {
   "cell_type": "code",
   "execution_count": null,
   "metadata": {},
   "outputs": [],
   "source": [
    "#Evaluasi Performa Model Testing\n",
    "print('Akurasi Data Testing SVM :', modelDT.score(item_test, gender_test)) \n",
    "print('Akurasi Data Testing KNN :', modelSVM.score(item_test, gender_test)) \n",
    "print('Akurasi Data Testing Naive Bayes :', modelKNN.score(item_test, gender_test)) \n",
    "print('Akurasi Data Testing Decision Tree :', modelNB.score(item_test, gender_test)) "
   ]
  },
  {
   "cell_type": "code",
   "execution_count": null,
   "metadata": {},
   "outputs": [],
   "source": [
    "#Evalausi Data Test (Item) untuk diprediksi\n",
    "P_DT = modelDT.predict(item_test)\n",
    "P_SVM = modelSVM.predict(item_test)\n",
    "P_KNN = modelKNN.predict(item_test)\n",
    "P_NB = modelNB.predict(item_test)"
   ]
  },
  {
   "cell_type": "code",
   "execution_count": null,
   "metadata": {},
   "outputs": [],
   "source": [
    "#hasil prediksi data test\n",
    "print(\"Prediksi SVM : \", P_SVM)\n",
    "print(\"Prediksi KNN : \", P_KNN)\n",
    "print(\"Prediksi Naive Bayes : \", P_NB)\n",
    "print(\"Prediksi Decision Tree : \", P_DT)"
   ]
  },
  {
   "cell_type": "code",
   "execution_count": null,
   "metadata": {},
   "outputs": [],
   "source": [
    "#Akurasi data yang telah diprediksi\n",
    "print(\"Akurasi SVM : \", accuracy_score(gender_test, P_SVM))\n",
    "print(\"Akurasi KNN : \", accuracy_score(gender_test, P_KNN))\n",
    "print(\"Akurasi Naive Bayes : \", accuracy_score(gender_test, P_NB))\n",
    "print(\"Akurasi Decision Tree : \", accuracy_score(gender_test, P_DT))"
   ]
  },
  {
   "cell_type": "code",
   "execution_count": null,
   "metadata": {},
   "outputs": [],
   "source": [
    "# classification report  \n",
    "print('\\n==== CLASSIFICATION REPORT ====\\n\\n')  \n",
    "\n",
    "# CR SVM\n",
    "print('1. Report Model SVM\\n')\n",
    "crSVM = classification_report(gender_test, P_SVM)  \n",
    "print(crSVM)\n",
    "print('\\n\\n')\n",
    "# CR KNN\n",
    "print('2. Report Model KNN\\n')\n",
    "crKNN = classification_report(gender_test, P_KNN)  \n",
    "print(crKNN)\n",
    "print('\\n\\n')\n",
    "# CR Naive Bayes\n",
    "print('3. Report Model Naive Bayes\\n')\n",
    "crNB = classification_report(gender_test, P_NB)  \n",
    "print(crNB)\n",
    "print('\\n\\n')\n",
    "# CR Decision Tree\n",
    "print('4. Report Model Decision Tree\\n')\n",
    "crDT = classification_report(gender_test, P_DT)  \n",
    "print(crDT)\n",
    "print('\\n\\n')"
   ]
  },
  {
   "cell_type": "code",
   "execution_count": null,
   "metadata": {},
   "outputs": [],
   "source": []
  }
 ],
 "metadata": {
  "kernelspec": {
   "display_name": "Python 3",
   "language": "python",
   "name": "python3"
  },
  "language_info": {
   "codemirror_mode": {
    "name": "ipython",
    "version": 3
   },
   "file_extension": ".py",
   "mimetype": "text/x-python",
   "name": "python",
   "nbconvert_exporter": "python",
   "pygments_lexer": "ipython3",
   "version": "3.8.3"
  }
 },
 "nbformat": 4,
 "nbformat_minor": 4
}
